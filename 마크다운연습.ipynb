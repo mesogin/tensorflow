{
  "nbformat": 4,
  "nbformat_minor": 0,
  "metadata": {
    "colab": {
      "provenance": [],
      "authorship_tag": "ABX9TyNuebMZfYFsLOuT3I2q9Otw",
      "include_colab_link": true
    },
    "kernelspec": {
      "name": "python3",
      "display_name": "Python 3"
    },
    "language_info": {
      "name": "python"
    }
  },
  "cells": [
    {
      "cell_type": "markdown",
      "metadata": {
        "id": "view-in-github",
        "colab_type": "text"
      },
      "source": [
        "<a href=\"https://colab.research.google.com/github/mesogin/tensorflow/blob/master/%EB%A7%88%ED%81%AC%EB%8B%A4%EC%9A%B4%EC%97%B0%EC%8A%B5.ipynb\" target=\"_parent\"><img src=\"https://colab.research.google.com/assets/colab-badge.svg\" alt=\"Open In Colab\"/></a>"
      ]
    },
    {
      "cell_type": "markdown",
      "source": [
        "#제목1\n",
        "##제목2\n",
        "###제목3\n",
        "#####제목4\n",
        "######제목5\n",
        "\n",
        "\n"
      ],
      "metadata": {
        "id": "1Bhdyb4WE0mz"
      }
    },
    {
      "cell_type": "markdown",
      "source": [
        "#텍스트 적기\n",
        "텍스트는 그냥 쭉 치시면 됩니다.\n",
        "\n",
        "#줄바꿈\n",
        "그냥 치면 된다면서요..  \n",
        "엔터 쳐도 줄바꿈 안되고   \n",
        "스페이스바 2번쳐야 줄바뀜\n",
        "\n",
        "#강조\n",
        "_이텔릭체_로 변합니다.  \n",
        "  \n",
        "**두껍게**는 별 2개로 감싸기  \n",
        "  \n",
        "_**두껍게 + 이텔릭체**_  \n",
        "  \n",
        "~취소선~은 물결표로  \n",
        "  \n",
        "<u>언더바</u>만들어 강조하기  \n",
        "  \n",
        "#`텍스트 backtick`  \n",
        "  \n",
        "#목록(LIST)  \n",
        "  \n",
        "## 순서가 있는 목록  \n",
        "  \n",
        "0. 순서가 있는 목록  \n",
        "0. 순서가 있는 목록  \n",
        "0. 순서가 있는 목록  \n",
        "  0. 순서가 있는 목록  \n",
        "  0. 순서가 있는 목록  \n",
        "  0. 순서가 있는 목록  \n",
        "0. 순서가 있는 목록  \n",
        "0. 순서가 있는 목록  \n",
        "  \n",
        "## 순서가 없는 목록\n",
        "- 순서가 없는 목록\n",
        "- 순서가 없는 목록\n",
        "  - 순서가 없는 목록\n",
        "- 순서가 없는 목록\n",
        "  \n",
        "# 링크  \n",
        "- [네이버](https://www.naver.com)\n",
        "- [OpenAI](https://www.openai.com)  \n",
        "  \n",
        "#이미지 넣기  \n",
        "![chatGPT 방법론](https://cdn.openai.com/chatgpt/draft-20221129c/ChatGPT_Diagram.svg)  \n",
        "  \n",
        "> (참고) 인용문입니다.  \n",
        "  \n",
        "파이썬에서 문자열을 출력할 때에는 `print`를 쓰면 된다.  \n",
        "  \n",
        "```python\n",
        "import tensorflow as tf\n",
        "print(__tf.version__)\n",
        "```  \n",
        "  \n",
        "다음은 자바스크립트입니다.  \n",
        "  \n",
        "```javascript\n",
        "const a=1;\n",
        "console.log(a);\n",
        "```  \n",
        "  \n",
        "터미널\n",
        "```shell\n",
        "$ ls -al\n",
        "```  \n",
        "  \n",
        "```painttext\n",
        "이것은 보통 문장입니다.\n",
        "```  \n",
        "  \n",
        "#표 만들기  \n",
        "  \n",
        "주차 | 주제 | 완료여부 | 기간\n",
        ":--:|:--:|:--:|:--: \n",
        "1주차 | 파이썬 | X | 11\n",
        "2주차 | 데이터분석 | X | 12\n",
        "3주차 | 머신러닝 | O | 13\n",
        "  \n",
        "###표 정렬\n",
        ":--: 가운데정렬  \n",
        ":-- 왼쪽정렬  \n",
        "--: 오른쪽정렬  \n",
        "  \n",
        "<u> 강조하고 싶은 내용</u>  \n",
        "  \n",
        "<img width=\"500\" src=\"https://cdn.openai.com/chatgpt/draft-20221129c/ChatGPT_Diagram.svg\"></img>\n",
        "\n",
        "#수평선  \n",
        "제목  \n",
        "\n",
        "---\n",
        "  \n",
        "수평선 만들기"
      ],
      "metadata": {
        "id": "7j9AxJewHOwR"
      }
    }
  ]
}